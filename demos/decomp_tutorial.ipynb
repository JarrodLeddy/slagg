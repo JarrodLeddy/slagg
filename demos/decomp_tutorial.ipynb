{
 "cells": [
  {
   "cell_type": "markdown",
   "metadata": {},
   "source": [
    "# Decomposition Tutorial"
   ]
  },
  {
   "cell_type": "markdown",
   "metadata": {},
   "source": [
    "This tutorial will show you how to load a geometry from an STL file, create a grid object using this geometry, and then to decompose the grid into load-balanced domains."
   ]
  },
  {
   "cell_type": "markdown",
   "metadata": {},
   "source": [
    "First, load a geometry and visualize it."
   ]
  },
  {
   "cell_type": "code",
   "execution_count": 4,
   "metadata": {},
   "outputs": [
    {
     "ename": "ModuleNotFoundError",
     "evalue": "No module named 'slagg'",
     "output_type": "error",
     "traceback": [
      "\u001b[0;31m---------------------------------------------------------------------------\u001b[0m",
      "\u001b[0;31mModuleNotFoundError\u001b[0m                       Traceback (most recent call last)",
      "Cell \u001b[0;32mIn[4], line 1\u001b[0m\n\u001b[0;32m----> 1\u001b[0m \u001b[38;5;28;01mfrom\u001b[39;00m \u001b[38;5;21;01mslagg\u001b[39;00m \u001b[38;5;28;01mimport\u001b[39;00m Geometry\n\u001b[1;32m      3\u001b[0m geometry \u001b[38;5;241m=\u001b[39m Geometry(\u001b[38;5;124m\"\u001b[39m\u001b[38;5;124m../tests/stl_files/Moon.stl\u001b[39m\u001b[38;5;124m\"\u001b[39m)\n\u001b[1;32m      4\u001b[0m geom\u001b[38;5;241m.\u001b[39mplot()\n",
      "\u001b[0;31mModuleNotFoundError\u001b[0m: No module named 'slagg'"
     ]
    }
   ],
   "source": [
    "from slagg import Geometry\n",
    "\n",
    "geometry = Geometry(\"../tests/stl_files/Moon.stl\")\n",
    "geom.plot()"
   ]
  },
  {
   "cell_type": "markdown",
   "metadata": {},
   "source": [
    "Next, we create a grid to discretize this geometry.  The grid is made up of cells, some of which lie inside the geometry and others are outside.  We assume that the desired simulation domain is inside the object.  Providing the Grid with a Geometry object will calculate intersections and mark all cells interior to the object."
   ]
  },
  {
   "cell_type": "code",
   "execution_count": 7,
   "metadata": {},
   "outputs": [
    {
     "ename": "ModuleNotFoundError",
     "evalue": "No module named 'slagg'",
     "output_type": "error",
     "traceback": [
      "\u001b[0;31m---------------------------------------------------------------------------\u001b[0m",
      "\u001b[0;31mModuleNotFoundError\u001b[0m                       Traceback (most recent call last)",
      "Cell \u001b[0;32mIn[7], line 1\u001b[0m\n\u001b[0;32m----> 1\u001b[0m \u001b[38;5;28;01mfrom\u001b[39;00m \u001b[38;5;21;01mslagg\u001b[39;00m \u001b[38;5;28;01mimport\u001b[39;00m Grid\n\u001b[1;32m      2\u001b[0m grid \u001b[38;5;241m=\u001b[39m Grid((\u001b[38;5;241m30\u001b[39m, \u001b[38;5;241m8\u001b[39m, \u001b[38;5;241m60\u001b[39m), geometry\u001b[38;5;241m=\u001b[39mgeometry)\n\u001b[1;32m      3\u001b[0m grid\u001b[38;5;241m.\u001b[39mplot()\n",
      "\u001b[0;31mModuleNotFoundError\u001b[0m: No module named 'slagg'"
     ]
    }
   ],
   "source": [
    "from slagg import Grid\n",
    "grid = Grid((30, 8, 60), geometry=geometry)\n",
    "grid.plot()"
   ]
  },
  {
   "cell_type": "markdown",
   "metadata": {},
   "source": [
    "The above plot shows only the cells that contain geometry."
   ]
  },
  {
   "cell_type": "markdown",
   "metadata": {},
   "source": [
    "Now, we want to generate a decomposition for this grid.  The standard, default decomposition generates regions that are as cubic and equal in volume as possible, based on the number of regions desired and the number of cells in the grid.  With complex geometries, this is often not a good, load-balanced decomposition."
   ]
  },
  {
   "cell_type": "code",
   "execution_count": 8,
   "metadata": {},
   "outputs": [
    {
     "ename": "NameError",
     "evalue": "name 'Decomp' is not defined",
     "output_type": "error",
     "traceback": [
      "\u001b[0;31m---------------------------------------------------------------------------\u001b[0m",
      "\u001b[0;31mNameError\u001b[0m                                 Traceback (most recent call last)",
      "Cell \u001b[0;32mIn[8], line 2\u001b[0m\n\u001b[1;32m      1\u001b[0m N_desired_domains \u001b[38;5;241m=\u001b[39m \u001b[38;5;241m32\u001b[39m\n\u001b[0;32m----> 2\u001b[0m decomp \u001b[38;5;241m=\u001b[39m Decomp(grid, N_desired_domains, geometry_biased\u001b[38;5;241m=\u001b[39m\u001b[38;5;28;01mFalse\u001b[39;00m)\n\u001b[1;32m      3\u001b[0m ax \u001b[38;5;241m=\u001b[39m geom\u001b[38;5;241m.\u001b[39mplot(plot\u001b[38;5;241m=\u001b[39m\u001b[38;5;28;01mFalse\u001b[39;00m)\n\u001b[1;32m      4\u001b[0m decomp\u001b[38;5;241m.\u001b[39mplot(axes\u001b[38;5;241m=\u001b[39max)\n",
      "\u001b[0;31mNameError\u001b[0m: name 'Decomp' is not defined"
     ]
    }
   ],
   "source": [
    "N_desired_domains = 32\n",
    "decomp = Decomp(grid, N_desired_domains, geometry_biased=False)\n",
    "ax = geom.plot(plot=False)\n",
    "decomp.plot(axes=ax)"
   ]
  },
  {
   "cell_type": "markdown",
   "metadata": {},
   "source": [
    "The above decomposition does not take into accout any geometries, but just seeks to make domains with a balanced number of cells.  If instead, we seek to balance the number of geometry-containing cells, a better decomposition results:"
   ]
  },
  {
   "cell_type": "code",
   "execution_count": null,
   "metadata": {},
   "outputs": [],
   "source": [
    "decomp = Decomp(grid, N_desired_domains, geometry_biased=True)\n",
    "ax = geom.plot(plot=False)\n",
    "decomp.plot(axes=ax)"
   ]
  }
 ],
 "metadata": {
  "kernelspec": {
   "display_name": "Python 3.11.3 ('pyoccenv': conda)",
   "language": "python",
   "name": "python3"
  },
  "language_info": {
   "codemirror_mode": {
    "name": "ipython",
    "version": 3
   },
   "file_extension": ".py",
   "mimetype": "text/x-python",
   "name": "python",
   "nbconvert_exporter": "python",
   "pygments_lexer": "ipython3",
   "version": "3.11.3"
  },
  "orig_nbformat": 4,
  "vscode": {
   "interpreter": {
    "hash": "86003eb31cba7e6917a04b83ac490bd48aef6b7045ab1333918a0794f2d4ff97"
   }
  }
 },
 "nbformat": 4,
 "nbformat_minor": 2
}
